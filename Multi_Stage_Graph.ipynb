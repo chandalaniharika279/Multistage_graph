{
  "nbformat": 4,
  "nbformat_minor": 0,
  "metadata": {
    "colab": {
      "provenance": [],
      "include_colab_link": true
    },
    "kernelspec": {
      "name": "python3",
      "display_name": "Python 3"
    },
    "language_info": {
      "name": "python"
    }
  },
  "cells": [
    {
      "cell_type": "markdown",
      "metadata": {
        "id": "view-in-github",
        "colab_type": "text"
      },
      "source": [
        "<a href=\"https://colab.research.google.com/github/chandalaniharika279/Multistage_graph/blob/main/Multi_Stage_Graph.ipynb\" target=\"_parent\"><img src=\"https://colab.research.google.com/assets/colab-badge.svg\" alt=\"Open In Colab\"/></a>"
      ]
    },
    {
      "cell_type": "code",
      "execution_count": null,
      "metadata": {
        "colab": {
          "base_uri": "https://localhost:8080/"
        },
        "id": "SlKvwh-0u7Jv",
        "outputId": "ca1ec451-40be-4d49-d3b0-71ca6e5ab5c5"
      },
      "outputs": [
        {
          "output_type": "stream",
          "name": "stdout",
          "text": [
            "Shortest cost from source to destination: 8\n",
            "Path: [0, 2, 3, 5]\n"
          ]
        }
      ],
      "source": [
        "# Multi-Stage Graph\n",
        "def multi_stage_graph(graph, stages):\n",
        "    n = len(graph)\n",
        "    cost = [float('inf')] * n\n",
        "    path = [-1] * n\n",
        "\n",
        "    # Destination cost is zero\n",
        "    cost[-1] = 0\n",
        "\n",
        "    # Work backward from the last stage\n",
        "    for i in range(n - 2, -1, -1):\n",
        "        for j in range(i + 1, n):\n",
        "            if graph[i][j] != float('inf') and cost[j] + graph[i][j] < cost[i]:\n",
        "                cost[i] = cost[j] + graph[i][j]\n",
        "                path[i] = j\n",
        "\n",
        "    return cost[0], path\n",
        "\n",
        "# Example graph (adjacency matrix)\n",
        "graph = [\n",
        "    [0, 2, 3, float('inf'), float('inf'), float('inf')],\n",
        "    [float('inf'), 0, float('inf'), 7, float('inf'), float('inf')],\n",
        "    [float('inf'), float('inf'), 0, 4, 2, float('inf')],\n",
        "    [float('inf'), float('inf'), float('inf'), 0, float('inf'), 1],\n",
        "    [float('inf'), float('inf'), float('inf'), float('inf'), 0, 3],\n",
        "    [float('inf'), float('inf'), float('inf'), float('inf'), float('inf'), 0]\n",
        "]\n",
        "\n",
        "# Define number of stages\n",
        "stages = 4\n",
        "\n",
        "shortest_cost, path = multi_stage_graph(graph, stages)\n",
        "print(\"Shortest cost from source to destination:\", shortest_cost)\n",
        "\n",
        "# Reconstruct the path\n",
        "current = 0\n",
        "route = [current]\n",
        "while path[current] != -1:\n",
        "    current = path[current]\n",
        "    route.append(current)\n",
        "print(\"Path:\", route)"
      ]
    }
  ]
}